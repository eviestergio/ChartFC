{
 "cells": [
  {
   "cell_type": "code",
   "execution_count": 12,
   "id": "97bc833f-4e16-477f-8302-9db2462c1070",
   "metadata": {},
   "outputs": [],
   "source": [
    "import pandas as pd\n",
    "import glob\n",
    "import os"
   ]
  },
  {
   "cell_type": "code",
   "execution_count": 17,
   "id": "46f05444-cbef-4edb-9897-b27051ead38c",
   "metadata": {},
   "outputs": [],
   "source": [
    "# Paths to datasets with DePlot tables\n",
    "data_pattern = '/Users/evie/Documents/GitHub/ChartFact/seed_datasets_150_GF/3_translated_data_150_GF/**/*-ctt.csv'"
   ]
  },
  {
   "cell_type": "code",
   "execution_count": 19,
   "id": "d196caf7-c800-41f2-af44-6c1ce4ca75eb",
   "metadata": {},
   "outputs": [],
   "source": [
    "''' Convert data string to a DataFrame and a title '''\n",
    "def string_to_dataframe_and_title(data_string, filepath):\n",
    "    # Split the data into rows\n",
    "    rows = data_string.strip().split(\"&&&\")\n",
    "    \n",
    "    title = None\n",
    "    header = None\n",
    "\n",
    "    # Check if the first row is a title and extract it\n",
    "    if \"TITLE |\" in rows[0]:\n",
    "        potential_title = rows[0].split(\" | \", 1)[1]  # Split and take second part as the potential title\n",
    "        if potential_title.strip().lower() not in ['', 'title']: # Handle cases with placeholder titles\n",
    "            title = potential_title  # Only set title if it's meaningful\n",
    "        rows.pop(0)  # Remove the title row from processing\n",
    "\n",
    "    # The next row should be the header\n",
    "    if rows:\n",
    "        header = [h.strip() for h in rows.pop(0).split(\"|\") if h.strip()]\n",
    "    else:\n",
    "        raise ValueError(\"No header row found after the title row.\")\n",
    "\n",
    "    # Check if there are any data rows left after removing title and header\n",
    "    if not rows:\n",
    "        raise ValueError(\"No data rows found after the header row.\")\n",
    "\n",
    "    # Split remaining rows based on number of headers\n",
    "    records = []\n",
    "    for row in rows:\n",
    "        record = [r.strip() for r in row.strip().split(\"|\") if r.strip()]\n",
    "        if len(record) != len(header):\n",
    "            print(f\"File: {filepath}: Row has {len(record)} columns, expected {len(header)} - row data: {record}\")\n",
    "            return None, title  # to keep original CSV instead\n",
    "        records.append(record)\n",
    "\n",
    "    # Create df and convert data to numeric where possible\n",
    "    df = pd.DataFrame(records, columns=header).apply(pd.to_numeric, errors='ignore')\n",
    "\n",
    "    return df, title"
   ]
  },
  {
   "cell_type": "code",
   "execution_count": 20,
   "id": "fe586c8d-d896-413d-9bfe-2b840eeee6db",
   "metadata": {},
   "outputs": [],
   "source": [
    "''' Save the title to a separate txt file '''\n",
    "def save_title_to_file(title, filepath):\n",
    "    if title:\n",
    "        title_filepath = f\"{filepath.rsplit('.', 1)[0]}-title.txt\" # Add '-title' extention\n",
    "        with open(title_filepath, 'w') as f:\n",
    "            f.write(title)"
   ]
  },
  {
   "cell_type": "code",
   "execution_count": 21,
   "id": "e904e61d-b750-45a5-ad92-a84536f5ed96",
   "metadata": {},
   "outputs": [
    {
     "name": "stdout",
     "output_type": "stream",
     "text": [
      "File: /Users/evie/Documents/GitHub/ChartFact/seed_datasets_150_GF/3_translated_data_150_GF/PlotQA/val/tables/plotQA_19926-val-ctt.csv: Row has 4 columns, expected 3 - row data: ['& Suriname', '3', '11', '102880123758.245252525']\n",
      "File: /Users/evie/Documents/GitHub/ChartFact/seed_datasets_150_GF/3_translated_data_150_GF/FigureQA/train/tables/figureQA_73151-train-ctt.csv: Row has 3 columns, expected 2 - row data: ['Mobile', '0', '95.98']\n",
      "File: /Users/evie/Documents/GitHub/ChartFact/seed_datasets_150_GF/3_translated_data_150_GF/FigureQA/train/tables/figureQA_67334-train-ctt.csv: Row has 8 columns, expected 7 - row data: ['9.0', '91.0', '90.0', '91.0', '91.0', '91.0', '91.0', '91.0']\n",
      "File: /Users/evie/Documents/GitHub/ChartFact/seed_datasets_150_GF/3_translated_data_150_GF/FigureQA/train/tables/figureQA_71753-train-ctt.csv: Row has 9 columns, expected 7 - row data: ['Lowe', '23.9', '72.7', '72.7', '72.7', '66.3', '50.0', '24.6', '24.6']\n",
      "File: /Users/evie/Documents/GitHub/ChartFact/seed_datasets_150_GF/3_translated_data_150_GF/FigureQA/train/tables/figureQA_60797-train-ctt.csv: Row has 3 columns, expected 2 - row data: ['90.04', 'May 16', '96.02']\n",
      "File: /Users/evie/Documents/GitHub/ChartFact/seed_datasets_150_GF/3_translated_data_150_GF/FigureQA/train/tables/figureQA_88613-train-ctt.csv: Row has 1 columns, expected 2 - row data: ['63.5']\n",
      "File: /Users/evie/Documents/GitHub/ChartFact/seed_datasets_150_GF/3_translated_data_150_GF/FigureQA/train/tables/figureQA_78145-train-ctt.csv: Row has 3 columns, expected 2 - row data: ['Green Yellow', '67.0', '70.0']\n",
      "File: /Users/evie/Documents/GitHub/ChartFact/seed_datasets_150_GF/3_translated_data_150_GF/FigureQA/train/tables/figureQA_22928-train-ctt.csv: Row has 1 columns, expected 2 - row data: ['None\"']\n",
      "File: /Users/evie/Documents/GitHub/ChartFact/seed_datasets_150_GF/3_translated_data_150_GF/FigureQA/train/tables/figureQA_44620-train-ctt.csv: Row has 3 columns, expected 2 - row data: ['France', '0', '92.8']\n",
      "File: /Users/evie/Documents/GitHub/ChartFact/seed_datasets_150_GF/3_translated_data_150_GF/FigureQA/train/tables/figureQA_59224-train-ctt.csv: Row has 1 columns, expected 2 - row data: ['None\"']\n",
      "File: /Users/evie/Documents/GitHub/ChartFact/seed_datasets_150_GF/3_translated_data_150_GF/FigureQA/train/tables/figureQA_59494-train-ctt.csv: Row has 1 columns, expected 2 - row data: ['None']\n",
      "File: /Users/evie/Documents/GitHub/ChartFact/seed_datasets_150_GF/3_translated_data_150_GF/FigureQA/train/tables/figureQA_59161-train-ctt.csv: Row has 1 columns, expected 2 - row data: ['None\"']\n",
      "File: /Users/evie/Documents/GitHub/ChartFact/seed_datasets_150_GF/3_translated_data_150_GF/FigureQA/train/tables/figureQA_11697-train-ctt.csv: Row has 1 columns, expected 2 - row data: ['None\"']\n",
      "File: /Users/evie/Documents/GitHub/ChartFact/seed_datasets_150_GF/3_translated_data_150_GF/FigureQA/train/tables/figureQA_93810-train-ctt.csv: Row has 3 columns, expected 2 - row data: ['Medium Purple', '0', '0.61']\n",
      "File: /Users/evie/Documents/GitHub/ChartFact/seed_datasets_150_GF/3_translated_data_150_GF/FigureQA/train/tables/figureQA_35077-train-ctt.csv: Row has 1 columns, expected 2 - row data: ['None']\n",
      "File: /Users/evie/Documents/GitHub/ChartFact/seed_datasets_150_GF/3_translated_data_150_GF/FigureQA/train/tables/figureQA_92139-train-ctt.csv: Row has 3 columns, expected 2 - row data: ['36.13', '54.06', 'Chocolate']\n",
      "File: /Users/evie/Documents/GitHub/ChartFact/seed_datasets_150_GF/3_translated_data_150_GF/FigureQA/train/tables/figureQA_12269-train-ctt.csv: Row has 1 columns, expected 2 - row data: ['None\"']\n",
      "File: /Users/evie/Documents/GitHub/ChartFact/seed_datasets_150_GF/3_translated_data_150_GF/FigureQA/train/tables/figureQA_18626-train-ctt.csv: Row has 1 columns, expected 2 - row data: ['None\"']\n",
      "File: /Users/evie/Documents/GitHub/ChartFact/seed_datasets_150_GF/3_translated_data_150_GF/FigureQA/train/tables/figureQA_7737-train-ctt.csv: Row has 1 columns, expected 2 - row data: ['None\"']\n",
      "File: /Users/evie/Documents/GitHub/ChartFact/seed_datasets_150_GF/3_translated_data_150_GF/FigureQA/train/tables/figureQA_73252-train-ctt.csv: Row has 7 columns, expected 6 - row data: ['48.0', '60.0', '73.3', '73.8', '60.6', '38.2', '30.7']\n",
      "File: /Users/evie/Documents/GitHub/ChartFact/seed_datasets_150_GF/3_translated_data_150_GF/FigureQA/train/tables/figureQA_86051-train-ctt.csv: Row has 12 columns, expected 8 - row data: ['80.0', '85.0', '81.6', '82.6', '82.6', '79.6', '79.6', '79.6', '71.3', '76.6', '76.6', '66.3']\n",
      "File: /Users/evie/Documents/GitHub/ChartFact/seed_datasets_150_GF/3_translated_data_150_GF/FigureQA/train/tables/figureQA_89166-train-ctt.csv: Row has 10 columns, expected 7 - row data: ['42.0', '0.2', '0.2', '98.3', '98.6', '98.7', '98.6', '98.6', '98.7', '98.0']\n",
      "File: /Users/evie/Documents/GitHub/ChartFact/seed_datasets_150_GF/3_translated_data_150_GF/FigureQA/train/tables/figureQA_9596-train-ctt.csv: Row has 1 columns, expected 2 - row data: ['None\"']\n",
      "File: /Users/evie/Documents/GitHub/ChartFact/seed_datasets_150_GF/3_translated_data_150_GF/FigureQA/train/tables/figureQA_30299-train-ctt.csv: Row has 1 columns, expected 2 - row data: ['None\"']\n",
      "File: /Users/evie/Documents/GitHub/ChartFact/seed_datasets_150_GF/3_translated_data_150_GF/FigureQA/train/tables/figureQA_68887-train-ctt.csv: Row has 8 columns, expected 6 - row data: ['101.0', '0.99', '91.0', '92.0', '92.8', '92.9', '92.6', '92.7']\n",
      "File: /Users/evie/Documents/GitHub/ChartFact/seed_datasets_150_GF/3_translated_data_150_GF/FigureQA/train/tables/figureQA_63707-train-ctt.csv: Row has 5 columns, expected 6 - row data: ['55.0', '56.02', '58.9', '58.7', '56.02']\n",
      "File: /Users/evie/Documents/GitHub/ChartFact/seed_datasets_150_GF/3_translated_data_150_GF/FigureQA/train/tables/figureQA_40841-train-ctt.csv: Row has 1 columns, expected 2 - row data: ['None\"']\n",
      "File: /Users/evie/Documents/GitHub/ChartFact/seed_datasets_150_GF/3_translated_data_150_GF/FigureQA/train/tables/figureQA_29959-train-ctt.csv: Row has 1 columns, expected 2 - row data: ['None\"']\n",
      "File: /Users/evie/Documents/GitHub/ChartFact/seed_datasets_150_GF/3_translated_data_150_GF/FigureQA/train/tables/figureQA_71523-train-ctt.csv: Row has 3 columns, expected 2 - row data: ['Jan', '0', '32.8']\n",
      "File: /Users/evie/Documents/GitHub/ChartFact/seed_datasets_150_GF/3_translated_data_150_GF/FigureQA/train/tables/figureQA_19335-train-ctt.csv: Row has 1 columns, expected 2 - row data: ['None\"']\n",
      "File: /Users/evie/Documents/GitHub/ChartFact/seed_datasets_150_GF/3_translated_data_150_GF/FigureQA/train/tables/figureQA_27388-train-ctt.csv: Row has 1 columns, expected 2 - row data: ['None']\n",
      "File: /Users/evie/Documents/GitHub/ChartFact/seed_datasets_150_GF/3_translated_data_150_GF/FigureQA/train/tables/figureQA_49794-train-ctt.csv: Row has 1 columns, expected 2 - row data: ['None\"']\n",
      "File: /Users/evie/Documents/GitHub/ChartFact/seed_datasets_150_GF/3_translated_data_150_GF/FigureQA/train/tables/figureQA_18610-train-ctt.csv: Row has 1 columns, expected 2 - row data: ['None\"']\n",
      "File: /Users/evie/Documents/GitHub/ChartFact/seed_datasets_150_GF/3_translated_data_150_GF/FigureQA/train/tables/figureQA_61985-train-ctt.csv: Row has 4 columns, expected 3 - row data: ['& 7', '51.0', '51.0', '51.0']\n"
     ]
    }
   ],
   "source": [
    "# Pattern for matching csvs in FigureQA and PlotQA\n",
    "for filepath in glob.glob(data_pattern, recursive=True):\n",
    "    with open(filepath, 'r') as file:\n",
    "        data_string = file.read()\n",
    "\n",
    "    try:\n",
    "        result = string_to_dataframe_and_title(data_string, filepath)\n",
    "        if result is None:\n",
    "            print(f\"Skipping conversion for {filepath} because it removes data.\")\n",
    "            continue\n",
    "\n",
    "        df, title = result\n",
    "\n",
    "        if df is not None:\n",
    "            # Save the DataFrame (overwrite original file)\n",
    "            df.to_csv(filepath, index=False)\n",
    "                \n",
    "            # Save the title to a separate file\n",
    "            save_title_to_file(title, filepath)\n",
    "    except ValueError as e:\n",
    "        print(f\"Error processing {filepath}: {e}\")"
   ]
  },
  {
   "cell_type": "code",
   "execution_count": 22,
   "id": "1c861b0b-bcec-4644-ac93-7c8caa0047bb",
   "metadata": {},
   "outputs": [
    {
     "data": {
      "text/plain": [
       "[]"
      ]
     },
     "execution_count": 22,
     "metadata": {},
     "output_type": "execute_result"
    }
   ],
   "source": [
    "''' Check if CSV has any data '''\n",
    "def test_csv_conversion(directory_pattern):\n",
    "    not_converted_properly = []\n",
    "\n",
    "    # Loop through each file in directory\n",
    "    for filepath in glob.glob(directory_pattern, recursive=True):\n",
    "        # Only check converted files\n",
    "        if filepath.endswith('-dp.csv'):\n",
    "            try:\n",
    "                df = pd.read_csv(filepath)\n",
    "                # If shape is (0, 1), add to list\n",
    "                if df.shape == (0, 1):\n",
    "                    not_converted_properly.append(filepath)\n",
    "            except Exception as e: # If error reading CSV, add to list\n",
    "                not_converted_properly.append(filepath)\n",
    "\n",
    "    return not_converted_properly\n",
    "\n",
    "# Check for files not converted properly\n",
    "csvs_not_converted_properly = test_csv_conversion(data_pattern)\n",
    "csvs_not_converted_properly"
   ]
  }
 ],
 "metadata": {
  "kernelspec": {
   "display_name": "Python 3 (ipykernel)",
   "language": "python",
   "name": "python3"
  },
  "language_info": {
   "codemirror_mode": {
    "name": "ipython",
    "version": 3
   },
   "file_extension": ".py",
   "mimetype": "text/x-python",
   "name": "python",
   "nbconvert_exporter": "python",
   "pygments_lexer": "ipython3",
   "version": "3.11.7"
  }
 },
 "nbformat": 4,
 "nbformat_minor": 5
}
