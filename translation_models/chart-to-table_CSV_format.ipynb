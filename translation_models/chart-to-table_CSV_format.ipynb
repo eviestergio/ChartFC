{
 "cells": [
  {
   "cell_type": "code",
   "execution_count": 1,
   "id": "97bc833f-4e16-477f-8302-9db2462c1070",
   "metadata": {},
   "outputs": [],
   "source": [
    "import pandas as pd\n",
    "import glob\n",
    "import os"
   ]
  },
  {
   "cell_type": "code",
   "execution_count": 2,
   "id": "46f05444-cbef-4edb-9897-b27051ead38c",
   "metadata": {},
   "outputs": [],
   "source": [
    "# Paths to datasets with DePlot tables\n",
    "data_pattern = '/Users/angwang/ChartFC/seed_datasets_150_GF/3_translated_data_150_GF/**/*-ctt.csv'"
   ]
  },
  {
   "cell_type": "code",
   "execution_count": 3,
   "id": "d196caf7-c800-41f2-af44-6c1ce4ca75eb",
   "metadata": {},
   "outputs": [],
   "source": [
    "''' Convert data string to a DataFrame and a title '''\n",
    "def string_to_dataframe_and_title(data_string, filepath):\n",
    "    # Split the data into rows\n",
    "    rows = data_string.strip().split(\"&&&\")\n",
    "    \n",
    "    title = None\n",
    "    header = None\n",
    "\n",
    "    # Check if the first row is a title and extract it\n",
    "    if \"TITLE |\" in rows[0]:\n",
    "        potential_title = rows[0].split(\" | \", 1)[1]  # Split and take second part as the potential title\n",
    "        if potential_title.strip().lower() not in ['', 'title']: # Handle cases with placeholder titles\n",
    "            title = potential_title  # Only set title if it's meaningful\n",
    "        rows.pop(0)  # Remove the title row from processing\n",
    "\n",
    "    # The next row should be the header\n",
    "    if rows:\n",
    "        header = [h.strip() for h in rows.pop(0).split(\"|\") if h.strip()]\n",
    "    else:\n",
    "        raise ValueError(\"No header row found after the title row.\")\n",
    "\n",
    "    # Check if there are any data rows left after removing title and header\n",
    "    if not rows:\n",
    "        raise ValueError(\"No data rows found after the header row.\")\n",
    "\n",
    "    # Split remaining rows based on number of headers\n",
    "    records = []\n",
    "    for row in rows:\n",
    "        record = [r.strip() for r in row.strip().split(\"|\") if r.strip()]\n",
    "        if len(record) != len(header):\n",
    "            print(f\"File: {filepath}: Row has {len(record)} columns, expected {len(header)} - row data: {record}\")\n",
    "            return None, title  # to keep original CSV instead\n",
    "        records.append(record)\n",
    "\n",
    "    # Create df and convert data to numeric where possible\n",
    "    df = pd.DataFrame(records, columns=header).apply(pd.to_numeric, errors='ignore')\n",
    "\n",
    "    return df, title"
   ]
  },
  {
   "cell_type": "code",
   "execution_count": 4,
   "id": "fe586c8d-d896-413d-9bfe-2b840eeee6db",
   "metadata": {},
   "outputs": [],
   "source": [
    "''' Save the title to a separate txt file '''\n",
    "def save_title_to_file(title, filepath):\n",
    "    if title:\n",
    "        title_filepath = f\"{filepath.rsplit('.', 1)[0]}-title.txt\" # Add '-title' extention\n",
    "        with open(title_filepath, 'w') as f:\n",
    "            f.write(title)"
   ]
  },
  {
   "cell_type": "code",
   "execution_count": 5,
   "id": "e904e61d-b750-45a5-ad92-a84536f5ed96",
   "metadata": {},
   "outputs": [
    {
     "name": "stdout",
     "output_type": "stream",
     "text": [
      "File: /Users/angwang/ChartFC/seed_datasets_150_GF/3_translated_data_150_GF/PlotQA/test/tables/plotQA_28184-test-ctt.csv: Row has 4 columns, expected 3 - row data: ['Coal', 'High income: OECD', 'High income: nonOECD', '0.000885182565899589901201399']\n",
      "File: /Users/angwang/ChartFC/seed_datasets_150_GF/3_translated_data_150_GF/PlotQA/test/tables/plotQA_11327-test-ctt.csv: Row has 4 columns, expected 3 - row data: ['& 2000', '100.0', '100.0', 'Mongolia']\n",
      "File: /Users/angwang/ChartFC/seed_datasets_150_GF/3_translated_data_150_GF/PlotQA/test/tables/plotQA_9960-test-ctt.csv: Row has 4 columns, expected 3 - row data: ['Morocco', '87.54808', 'All education staff compensation', 'All education staff compensation']\n",
      "File: /Users/angwang/ChartFC/seed_datasets_150_GF/3_translated_data_150_GF/PlotQA/test/tables/plotQA_27508-test-ctt.csv: Row has 4 columns, expected 3 - row data: ['1961', 'Peru', '0.273037 recorded total earnings', '0.2730657070342152447']\n",
      "File: /Users/angwang/ChartFC/seed_datasets_150_GF/3_translated_data_150_GF/PlotQA/test/tables/plotQA_14687-test-ctt.csv: Row has 13 columns, expected 3 - row data: ['& 27. % of total expenses', '40.2857458887046994524620258921', '2013.0', '0.0346994525', '0.0346994525', '0.0455893639455897255857', '0.0455897255857', '0.0455897255857', '0.04558972558293945589293945589293945589', '0.0455897258848589293945589', '0.04558293945589293945589', '0.04558293945589589', '0.0455897257257258848589']\n",
      "File: /Users/angwang/ChartFC/seed_datasets_150_GF/3_translated_data_150_GF/PlotQA/train/tables/plotQA_47438-train-ctt.csv: Row has 4 columns, expected 3 - row data: ['Canada', '20603646600000.0', '200450000.0', '2004']\n",
      "File: /Users/angwang/ChartFC/seed_datasets_150_GF/3_translated_data_150_GF/PlotQA/train/tables/plotQA_76697-train-ctt.csv: Row has 4 columns, expected 3 - row data: ['Social contributions', '27.055880629813613399', '2006', '2006']\n",
      "File: /Users/angwang/ChartFC/seed_datasets_150_GF/3_translated_data_150_GF/PlotQA/train/tables/plotQA_51142-train-ctt.csv: Row has 4 columns, expected 3 - row data: ['European Union', '11.4539586988183398', 'Secondary Education', 'Secondary Education']\n",
      "File: /Users/angwang/ChartFC/seed_datasets_150_GF/3_translated_data_150_GF/PlotQA/train/tables/plotQA_50675-train-ctt.csv: Row has 4 columns, expected 3 - row data: ['Bulgaria', '4.688698003842995658', '2002', '2002']\n",
      "File: /Users/angwang/ChartFC/seed_datasets_150_GF/3_translated_data_150_GF/PlotQA/train/tables/plotQA_31394-train-ctt.csv: Row has 4 columns, expected 3 - row data: ['& Cameroon', '77.5', '76.9000015', '1996']\n",
      "File: /Users/angwang/ChartFC/seed_datasets_150_GF/3_translated_data_150_GF/PlotQA/train/tables/plotQA_115593-train-ctt.csv: Row has 4 columns, expected 3 - row data: ['1991', 'Lithuania', 'Luxembourg', '601']\n",
      "File: /Users/angwang/ChartFC/seed_datasets_150_GF/3_translated_data_150_GF/PlotQA/train/tables/plotQA_129889-train-ctt.csv: Row has 4 columns, expected 3 - row data: ['& Hungary', '1977', '1978', '202728178792']\n",
      "File: /Users/angwang/ChartFC/seed_datasets_150_GF/3_translated_data_150_GF/PlotQA/train/tables/plotQA_144487-train-ctt.csv: Row has 4 columns, expected 3 - row data: ['Azerbaijan', '1990', '1990', '7.0']\n",
      "File: /Users/angwang/ChartFC/seed_datasets_150_GF/3_translated_data_150_GF/PlotQA/train/tables/plotQA_16644-train-ctt.csv: Row has 4 columns, expected 3 - row data: ['High income', '3', '3.5', '2.559243674653565404648']\n",
      "File: /Users/angwang/ChartFC/seed_datasets_150_GF/3_translated_data_150_GF/PlotQA/train/tables/plotQA_89646-train-ctt.csv: Row has 4 columns, expected 3 - row data: ['Antigua and Barbuda', '2', '0', '-66.5']\n",
      "File: /Users/angwang/ChartFC/seed_datasets_150_GF/3_translated_data_150_GF/PlotQA/train/tables/plotQA_15444-train-ctt.csv: Row has 4 columns, expected 3 - row data: ['& Eritrea', '0', '0', '3.0']\n",
      "File: /Users/angwang/ChartFC/seed_datasets_150_GF/3_translated_data_150_GF/PlotQA/train/tables/plotQA_57137-train-ctt.csv: Row has 67 columns, expected 3 - row data: ['& Group', '0.099490191041933941619', '0.0995893436478848912', '0.09958934', '0.029394949958934', '0.029394949958934', '0.029', '0.02939494995893429', '0.029', '0.02939494995893429', '0.029', '0.0293949499122422', '0.029', '0.0293949499122422', '0.029', '0.02939494992422', '0.029', '0.02939494992422', '0.029', '0.02939494992422', '0.029', '0.02939494992422', '0.029', '0.02939494992422', '0.029', '0.02939494992422', '0.029', '0.0293949499229', '0.029', '0.0293949499229', '0.029', '0.0293949499229', '0.029', '0.0293949499', '0.0293949499', '0.029', '0.0293949499', '0.0293949499', '0.029', '0.0293949499', '0.0293949499', '0.0293949499', '0.029798798798798798', '0.029', '0.029798798798798798', '0.029798798798', '0.029798798798798', '0.029798798798798798', '0.028', '0.028798798798798798798798', '0.0798798798798', '0.0798798798798798', '0.0798798798798798', '0.0798798798798798', '0.0798798798798798', '0.0798798798798798', '0.0798798798798798', '0.0798798798798798', '0.0798798798798798', '0.0798798798798798', '0.0798798798798798', '0.0798798798798798', '0.0798798798798798798798798', '0.0798798798798798', '0.0798798798798798798798', '0.0798798798798798798798798798798798798', '0.0798798798798798798798798798798798798798798']\n",
      "File: /Users/angwang/ChartFC/seed_datasets_150_GF/3_translated_data_150_GF/PlotQA/train/tables/plotQA_43790-train-ctt.csv: Row has 5 columns, expected 3 - row data: ['1960', '23.49704834299225556659', '69', '69', 'Egypt, Arab Rep.']\n",
      "File: /Users/angwang/ChartFC/seed_datasets_150_GF/3_translated_data_150_GF/PlotQA/train/tables/plotQA_62887-train-ctt.csv: Row has 4 columns, expected 3 - row data: ['1960', '60071345655889', '1605251778.523', 'Indonesia']\n",
      "File: /Users/angwang/ChartFC/seed_datasets_150_GF/3_translated_data_150_GF/PlotQA/train/tables/plotQA_38809-train-ctt.csv: Row has 20 columns, expected 3 - row data: ['&& Belgium', '7.3736626817405681246581268', '7.0448581246581268', '7', '7.09885812581258125812581258125812585', '0.0125812581258125812581258584', '0.012581258125812581258585858584', '0.012585858585858585858585858584', '0.01258585858585858585858585858584', '2005', '0.01258585858585858585858585858585858585858585812121212121212121212121212121212121212121212121212121212121212121212121212121212', '2005', '100452812581258125812581258125824', '1002812581258125824221212121212121212121212121212121212', '100281250000158242224221212121212121212121212124', '2004 2004 2004 2004 2004 2004 2004 2004 2004 2004 2004 2004 2004 2004 2004 2004 2004 2004 2004 2004 2004 2004 2004 2004 2004 2004 2004 2004 2004 2004 2004 2004 2004 2004 2004 2004 2004 2004 2004 2004 2004taketaketaketaketaketaketaketaketaketaketaketaketaketaketaketaketaketaketaketaketaketaketaketaketaketaketaketaketaketaketaketaketaketaketaketaketaketaketaketaketaketaketaketaketaketaketaketaketaketaketaketaketaketaketaketaketaketaketaketaketaketaketaketaketaketaketaketaketaketaketaketaketaketaketaketaketaketaketaketaketaketake', '2004', '2004', '2004', '2004taketaketaketaketaketaketaketaketaketaketaketaketaketaketaketaketaketaketaketaketaketaketaketaketaketaketaketaketaketaketaketaketaketaketaketaketaketaketaketaketaketaketaketaketaketaketaketaketaketaketaketaketaketaketaketaketaketaketaketaketaketaketaketaketaketaketaketaketaketaketaketaketaketaketaketaketaketaketaketaketaketaketaketaketaketaketaketaketaketaketaketaketaketaketaketaketaketaketaketaketaketaketaketaketaketaketaketaketaketaketaketaketaketaketaketaketaketaketaketaketaketaketaketaketaketaketaketaketaketaketaketaketaketaketaketaketaketaketaketaketaketaketaketaketaketaketaketaketaketaketaketaketaketaketaketaketaketaketaketaketaketaketaketaketaketaketaketaketaketaketaketaketaketaketaketaketaketaketaketaketaketaketaketaketaketaketaketaketaketaketaketaketaketaketaketaketaketaketaketaketaketaketaketaketaketaketaketaketaketaketaketaketaketaketaketaketaketaketaketaketaketaketaketaketaketaketaketaketaketaketaketaketaketaketaketaketaketaketaketaketaketaketaketaketaketaketaketaketaketaketaketaketaketaketaketaketaketaketaketaketaketaketaketaketaketaketaketaketaketaketaketaketaketaketaketaketaketaketaketaketaketaketaketaketaketaketaketaketaketaketaketaketaketaketaketaketaketaketaketaketaketaketaketaketaketaketaketaketaketaketaketaketaketaketaketaketaketaketaketaketaketaketaketaketaketaketaketaketaketaketaketaketaketaketaketaketaketaketaketaketaketaketaketaketaketaketaketaketaketaketaketaketaketaketaketaketaketaketaketaketaketaketaketaketaketaketaketaketaketaketaketaketaketaketaketaketaketaketaketaketaketaketaketaketaketaketaketaketaketaketaketaketaketaketaketaketaketaketaketaketaketaketaketaketaketaketaketaketaketaketaketaketaketaketaketaketaketaketaketaketaketaketaketaketaketaketaketaketaketaketaketaketaketaketaketaketaketaketaketaketaketaketaketaketaketaketaketaketaketaketaketaketaketaketaketaketaketaketaketaketaketaketaketaketaketaketaketaketaketaketaketaketaketaketaketaketaketaketaketaketaketaketaketaketaketaketaketaketaketaketaketaketaketaketaketaketaketaketaketaketaketaketaketaketaketaketaketaketaketaketaketaketaketaketaketaketaketaketaketaketaketaketaketaketaketaketaketaketaketaketaketaketaketaketaketaketaketaketaketaketaketaketaketaketaketaketaketaketaketaketaketaketaketaketaketaketaketaketaketaketaketaketaketaketaketaketaketaketaketaketaketaketaketaketaketaketaketaketaketaketaketaketaketaketaketaketaketaketaketaketaketaketaketaketaketaketaketaketaketaketaketaketaketaketaketaketaketaketaketaketaketaketaketaketaketaketaketaketaketaketaketaketaketaketaketaketaketaketaketaketaketaketaketaketaketaketaketaketaketaketaketaketaketaketaketaketaketaketaketaketaketaketaketaketaketaketaketaketaketaketaketaketaketaketaketaketaketaketaketaketaketaketaketaketaketaketaketaketaketaketaketaketaketaketaketaketaketaketaketaketaketaketaketaketaketaketaketaketaketaketaketaketaketaketaketaketaketaketaketaketaketaketaketaketaketaketaketaketaketaketaketaketaketaketaketaketaketaketaketaketaketaketaketaketaketaketaketaketaketaketaketaketaketaketaketaketaketaketaketaketaketaketaketaketaketaketaketaketaketaketaketaketaketaketaketaketaketaketaketaketaketaketaketaketaketaketaketaketaketaketaketaketaketaketaketaketaketaketaketaketaketaketaketaketaketaketaketaketaketaketaketaketaketaketaketaketaketaketaketaketaketaketaketaketaketaketaketaketaketaketaketaketaketaketaketaketaketaketaketaketaketaketaketaketaketaketaketaketaketaketaketaketaketaketaketaketaketaketaketaketaketaketaketaketaketaketaketaketaketaketaketaketaketaketaketaketaketaketaketaketaketaketaketaketaketaketaketaketaketaketaketaketaketaketaketaketaketaketaketaketaketaketaketaketaketaketaketaketaketaketaketaketaketaketaketaketaketaketaketaketaketaketaketaketaketaketaketaketaketaketaketaketaketaketaketaketaketaketaketaketaketaketaketaketaketaketaketaketaketaketaketaketaketaketaketaketaketaketake']\n",
      "File: /Users/angwang/ChartFC/seed_datasets_150_GF/3_translated_data_150_GF/PlotQA/train/tables/plotQA_132351-train-ctt.csv: Row has 0 columns, expected 3 - row data: []\n",
      "File: /Users/angwang/ChartFC/seed_datasets_150_GF/3_translated_data_150_GF/PlotQA/train/tables/plotQA_40447-train-ctt.csv: Row has 4 columns, expected 3 - row data: ['Jordan', '7.099958149993258803', '2005', '2005']\n",
      "File: /Users/angwang/ChartFC/seed_datasets_150_GF/3_translated_data_150_GF/PlotQA/train/tables/plotQA_17581-train-ctt.csv: Row has 4 columns, expected 3 - row data: ['Middle East & North Africa (developing only)', '3', '4', '16.9918906040594873461911']\n",
      "File: /Users/angwang/ChartFC/seed_datasets_150_GF/3_translated_data_150_GF/PlotQA/train/tables/plotQA_153644-train-ctt.csv: Row has 4 columns, expected 3 - row data: ['Non-06) living with HIV', '2000', '1996', '100']\n",
      "File: /Users/angwang/ChartFC/seed_datasets_150_GF/3_translated_data_150_GF/PlotQA/train/tables/plotQA_69701-train-ctt.csv: Row has 7 columns, expected 3 - row data: ['& Equatorial Guinea', '6995000000000.0', '100000.0', '100000.0', '100000.0', '100000.0', '100000.0']\n",
      "File: /Users/angwang/ChartFC/seed_datasets_150_GF/3_translated_data_150_GF/PlotQA/train/tables/plotQA_122858-train-ctt.csv: Row has 4 columns, expected 3 - row data: ['& 2006', 'Hong Kong', 'Hong Kong', '7.0']\n",
      "File: /Users/angwang/ChartFC/seed_datasets_150_GF/3_translated_data_150_GF/PlotQA/train/tables/plotQA_87883-train-ctt.csv: Row has 4 columns, expected 3 - row data: ['Guatemala', '4', '4', '485.20622963809901']\n",
      "File: /Users/angwang/ChartFC/seed_datasets_150_GF/3_translated_data_150_GF/PlotQA/train/tables/plotQA_152022-train-ctt.csv: Row has 4 columns, expected 3 - row data: ['Government expenditure per tertiary student', '2007', '2002', '21.01973662255854208585']\n",
      "File: /Users/angwang/ChartFC/seed_datasets_150_GF/3_translated_data_150_GF/PlotQA/train/tables/plotQA_21999-train-ctt.csv: Row has 5 columns, expected 3 - row data: ['Vulnerable to fall into poverty', '2012', '2012', '0', '4.0']\n",
      "File: /Users/angwang/ChartFC/seed_datasets_150_GF/3_translated_data_150_GF/PlotQA/train/tables/plotQA_2579-train-ctt.csv: Row has 4 columns, expected 3 - row data: ['Excluding', '0', '0', '63310000']\n",
      "File: /Users/angwang/ChartFC/seed_datasets_150_GF/3_translated_data_150_GF/PlotQA/train/tables/plotQA_126631-train-ctt.csv: Row has 4 columns, expected 3 - row data: ['1961', 'Germany', 'Germany', '1605.600.588349613624405293']\n",
      "File: /Users/angwang/ChartFC/seed_datasets_150_GF/3_translated_data_150_GF/PlotQA/train/tables/plotQA_34639-train-ctt.csv: Row has 4 columns, expected 3 - row data: ['1981', '14.500001525871028', 'France', 'France']\n",
      "File: /Users/angwang/ChartFC/seed_datasets_150_GF/3_translated_data_150_GF/PlotQA/train/tables/plotQA_3539-train-ctt.csv: Row has 4 columns, expected 3 - row data: ['Mozambique', '3', '30', '26.10650340181224405293']\n",
      "File: /Users/angwang/ChartFC/seed_datasets_150_GF/3_translated_data_150_GF/PlotQA/train/tables/plotQA_92386-train-ctt.csv: Row has 4 columns, expected 3 - row data: ['Croatia', '5', '1.001', '3.0051498533858532458951']\n",
      "File: /Users/angwang/ChartFC/seed_datasets_150_GF/3_translated_data_150_GF/PlotQA/train/tables/plotQA_156503-train-ctt.csv: Row has 4 columns, expected 3 - row data: ['Diarrhea treatment', 'Mauritania', 'Mauritania', '32.0']\n",
      "File: /Users/angwang/ChartFC/seed_datasets_150_GF/3_translated_data_150_GF/PlotQA/train/tables/plotQA_50492-train-ctt.csv: Row has 6 columns, expected 3 - row data: ['& Royalty', '54.428860258901300391421246298', '2012', '2010', '2010', '2010 and 2012']\n",
      "File: /Users/angwang/ChartFC/seed_datasets_150_GF/3_translated_data_150_GF/PlotQA/train/tables/plotQA_27297-train-ctt.csv: Row has 4 columns, expected 3 - row data: ['United States', '50.35850000000000.0', '1977', '1977']\n",
      "File: /Users/angwang/ChartFC/seed_datasets_150_GF/3_translated_data_150_GF/PlotQA/train/tables/plotQA_112918-train-ctt.csv: Row has 4 columns, expected 3 - row data: ['Central government', '2005', '0', '7.034737086992535647224901']\n",
      "File: /Users/angwang/ChartFC/seed_datasets_150_GF/3_translated_data_150_GF/PlotQA/train/tables/plotQA_151576-train-ctt.csv: Row has 4 columns, expected 3 - row data: ['CO2 intensity', 'Luxembourg', 'Luxembourg', '3.4538868849152835662237338']\n",
      "File: /Users/angwang/ChartFC/seed_datasets_150_GF/3_translated_data_150_GF/PlotQA/train/tables/plotQA_121747-train-ctt.csv: Row has 4 columns, expected 3 - row data: ['Europe(developing only)', '2006', '2006', '5.5488991466595860538803']\n",
      "File: /Users/angwang/ChartFC/seed_datasets_150_GF/3_translated_data_150_GF/PlotQA/train/tables/plotQA_44371-train-ctt.csv: Row has 13 columns, expected 3 - row data: ['&& 40.0', '68 for female.0.0', '100.0', '100.0.0.0', '100.0.0.0.0.0.0.0.0.0.0.0.0.0.0.0.0', '100.0.0.0.0.0.0.0.0.0.0.0.0.0.0.0.0.0.0.0.0.0.0.0.0.0.0.0.0.0.0.0.0.0.0', '100.0.0.0.0.0.0.0.0.0.0.0.0.0.0.0.0.0.0.0.0.0.0.0.0.0.0.0.0.0.0.0.0.0.0.0.0.0.0.0.0.0.0.0.0.0.0.0.0.0.0.0.0.0.0.0.0.0.0.0.0.0.0.0.0.0.0.0.0.0.0.0.0.0.0.0.0.0.0', '100.0.0.0.0.0.0.0.0.0', '100.0.0.0.0.0.0', '100.0.0.0.0', '100.0.0.0.0.0.0.0', '100.0.0.0.0.0.0.0', '99.0.0.0.0']\n",
      "File: /Users/angwang/ChartFC/seed_datasets_150_GF/3_translated_data_150_GF/PlotQA/train/tables/plotQA_39685-train-ctt.csv: Row has 4 columns, expected 3 - row data: ['1999', '276000.0', 'Madagascar', 'Number of smartphones']\n",
      "File: /Users/angwang/ChartFC/seed_datasets_150_GF/3_translated_data_150_GF/PlotQA/train/tables/plotQA_125386-train-ctt.csv: Row has 4 columns, expected 3 - row data: ['& Israel', 'Dependency ratio(old', 'Dependency ratio(young)', '12.608658587138587116589']\n",
      "File: /Users/angwang/ChartFC/seed_datasets_150_GF/3_translated_data_150_GF/PlotQA/train/tables/plotQA_108537-train-ctt.csv: Row has 2 columns, expected 3 - row data: ['& Turkmenistan', 'Second 20% of the third 20% of the third 20% of the third 20% of the third 20% of the third 20% of the third 20% of the third 20% of the third 20% of the third 20% of the third 20% of the third 20% of the third 20% of the third 20% of the third 20% of the third 20% of the third 20% of the third 20% of the third 20% of the third 20% of the third 20% of the third 20% of the third 20% of the third 20% of the third 20% of the third 20% of the third 20% of the third 20% of the third 20% of the third 20% of the third 20% of the third 20% of the third 20% of the third 20% of the third 20% of the third 20% of the third 20% of the third 20% of the third 20% of the third 20% of the third 20% of the third 20% of the third 20% of the third 20% of the third 20% of the third 20% of the third 20% of the third 20% of the third 20% of the third 20% of the third 20% of the third 20% of the third 20% of the third 20% of the third 20% of the third 20% of the third 20% of the third 20% of the third 20% of the fourth 20% of the fourth 20% of the fourth 20% of the fourth 20% of the fourth 20% of the fourth 20% of the fourth 20% of the fourth 20% of the fourth 20% of the fourth 20% of the fourth 20% of the fourth 20% of the fourth 20% of the fourth 20% of the fourth 20% of the fourth 20% of the fourth 20% of the fourth 20% of the fourth 20% of the fourth 20% of the fourth 20% of the fourth 20% of the fourth 20% of the fourth 20% of the fourth 20% of the fourth 20% of the fourth 20% of the fourth 20% of the fourth 20% of the fourth 20% of the fourth 20% of the fourth 20% of the fourth 20% of the fourth 20% of the fourth 20% of the fourth 20% of the fourth 20% of the fourth 20% of the fourth 20% of the fourth 20% of the fourth 20% of the fourth 20% of the third of the fourth Slovak Slovak Slovak Slovak Slovak Slovak Slovak Slovak Slovak Slovak Slovak Slovak Slovak Slovak Slovak Slovak Slovak Slovak Slovak Slovak Slovak Slovak Slovak Slovak Slovak Slovak Slovak Slovak Slovak Slovak Slovak Slovak Slovak Slovak Slovak Slovak Slovak Slovak Slovak Slovak Slovak Slovak Slovak Slovak Slovak Slovak Slovak Slovak Slovak Slovak Slovak Slovak Slovak Slovak Slovak Slovak Slovak Slovak Slovak Slovak Slovak Slovak Slovak Slovak Slovak Slovak Slovak Slovak Slovak Slovak Slovak Slovak Slovak Slovak Slovak Slovak Slovak Slovak Slovak Slovak Slovak Slovak Slovak Slovak Slovak Slovak Slovak Slovak Slovak Slovak Slovak Slovak Slovak Slovak Slovak Slovak Slovak Slovak Slovak Slovak Slovak Slovak Slovak Slovak Slovak Slovak Slovak Slovak Slovak Slovak Slovak Slovak Slovak Slovak Slovak Slovak Slovak Slovak Slovak Slovak Slovak Slovak Slovak Slovak Slovak Slovak Slovak Slovak Slovak Slovak Slovak Slovak Slovak Slovak Slovak Slovak Slovak Slovak Slovak Slovak Slovak Slovak Slovak Slovak Slovak Slovak Slovak Slovak Slovak Slovak Slovak Slovak Slovak Slovak Slovak Slovak Slovak Slovak Slovak Slovak Slovak Slovak Slovak Slovak Slovak Slovak Slovak Slovak Slovak Slovak Slovak Slovak Slovak Slovak Slovak Slovak Slovak Slovak Slovak Slovak Slovak Slovak Slovak Slovak Slovak Slovak Slovak Slovak Slovak Slovak Slovak Slovak Slovak Slovak Slovak Slovak Slovak Slovak Slovak Slovak Slovak Slovak Slovak Slovak Slovak Slovak Slovak Slovak Slovak Slovak Slovak Slovak Slovak Slovak Slovak Slovak Slovak Slovak Slovak Slovak Slovak Slovak Slovak Slovak Slovak Slovak Slovak Slovak Slovak Slovak Slovak Slovak Slovak Slovak Slovak Slovak Slovak Slovak Slovak Slovak Slovak Slovak Slovak Slovak Slovak Slovak Slovak Slovak Slovak Slovak Slovak Slovak Slovak Slovak Slovak Slovak Slovak Slovak Slovak Slovak Slovak Slovak Slovak Slovak Slovak Slovak Slovak Slovak Slovak Slovak Slovak Slovak Slovak Slovak Slovak Slovak Slovak Slovak Slovak Slovak Slovak Slovak Slovak Slovak Slovak Slovak Slovak Slovak Slovak Slovak Slovak Slovak Slovak Slovak Slovak Slovak Slovak Slovak Slovak Slovak Slovak Slovak Slovak Slovak Slovak Slovak Slovak Slovak Slovak Slovak Slovak Slovak Slovak Slovak Slovak Slovak Slovak Slovak Slovak Slovak Slovak Slovak Slovak Slovak Slovak Slovak Slovak Slovak Slovak Slovak Slovak Slovak Slovak Slovak Slovak Slovak Slovak Slovak Slovak Slovak Slovak Slovak Slovak Slovak Slovak Slovak Slovak Slovak Slovak Slovak Slovak Slovak Slovak Slovak Slovak Slovak Slovak Slovak Slovak Slovak Slovak Slovak Slovak Slovak Slovak Slovak Slovak Slovak Slovak Slovak Slovak Slovak Slovak Slovak Slovak Slovak Slovak Slovak Slovak Slovak Slovak Slovak Slovak Slovak Slovak Slovak Slovak Slovak Slovak Slovak Slovak Slovak Slovak Slovak Slovak Slovak Slovak Slovak Slovak Slovak Slovak Slovak Slovak Slovak Slovak Slovak Slovak Slovak Slovak Slovak Slovak Slovak Slovak Slovak Slovak Slovak Slovak Slovak Slovak Slovak Slovak Slovak Slovak Slovak Slovak Slovak Slovak Slovak Slovak Slovak Slovak Slovak Slovak Slovak Slovak Slovak Slovak Slovak Slovak Slovak Slovak Slovak Slovak Slovak Slovak Slovak Slovak Slovak Slovak Slovak Slovak Slovak Slovak Slovak Slovak Slovak Slovak Slovak Slovak Slovak Slovak Slovak Slovak Slovak Slovak Slovak Slovak Slovak Slovak Slovak Slovak Slovak Slovak Slovak Slovak Slovak Slovak Slovak Slovak Slovak Slovak Slovak Slovak Slovak Slovak Slovak Slovak Slovak Slovak Slovak Slovak Slovak Slovak Slovak Slovak Slovak Slovak Slovak Slovak Slovak Slovak Slovak Slovak Slovak Slovak Slovak Slovak Slovak Slovak Slovak Slovak Slovak Slovak Slovak Slovak Slovak Slovak Slovak Slovak Slovak Slovak Slovak Slovak Slovak Slovak Slovak Slovak Slovak Slovak Slovak Slovak Slovak Slovak Slovak Slovak Slovak Slovak Slovak Slovak Slovak Slovak Slovak Slovak Slovak Slovak Slovak Slovak Slovak Slovak Slovak Slovak Slovak Slovak Slovak Slovak Slovak Slovak Slovak Slovak Slovak Slovak Slovak Slovak Slovak Slovak Slovak Slovak Slovak Slovak Slovak Slovak Slovak Slovak Slovak Slovak Slovak Slovak Slovak Slovak Slovak Slovak Slovak Slovak Slovak Slovak Slovak Slovak Slovak Slovak Slovak Slovak Slovak Slovak Slovak Slovak Slovak Slovak Slovak Slovak Slovak Slovak Slovak Slovak Slovak Slovak Slovak Slovak Slovak Slovak Slovak Slovak Slovak Slovak Slovak Slovak Slovak Slovak Slovak Slovak Slovak Slovak Slovak Slovak Slovak Slovak Slovak Slovak Slovak Slovak Slovak Slovak Slovak Slovak Slovak Slovak Slovak Slovak Slovak Slovak Slovak Slovak Slovak Slovak Slovak Slovak Slovak Slovak Slovak Slovak Slovak Slovak Slovak Slovak Slovak Slovak Slovak Slovak Slovak Slovak Slovak Slovak Slovak Slovak Slovak Slovak Slovak Slovak Slovak Slovak Slovak Slovak Slovak Slovak Slovak Slovak Slovak Slovak Slovak Slovak Slovak Slovak Slovak Slovak Slovak Slovak Slovak Slovak Slovak Slovak Slovak Slovak Slovak Slovak Slovak Slovak Slovak Slovak Slovak Slovak Slovak Slovak Slovak Slovak Slovak Slovak Slovak Slovak Slovak Slovak Slovak Slovak Slovak Slovak Slovak Slovak Slovak Slovak Slovak Slovak Slovak Slovak Slovak Slovak Slovak Slovak Slovak Slovak Slovak Slovak Slovak Slovak Slovak Slovak Slovak Slovak Slovak Slovak Slovak Slovak Slovak Slovak Slovak Slovak Slovak Slovak Slovak Slovak Slovak Slovak Slovak Slovak Slovak Slovak Slovak Slovak Slovak Slovak Slovak Slovak Slovak Slovak Slovak Slovak Slovak Slovak Slovak Slovak Slovak Slovak Slovak Slovak Slovak Slovak Slovak Slovak Slovak Slovak Slovak Slovak Slovak Slovak Slovak Slovak Slovak Slovak Slovak Slovak Slovak Slovak Slovak Slovak Slovak Slovak Slovak Slovak Slovak Slovak Slovak Slovak Slovak Slovak Slovak Slovak Slovak Slovak Slovak Slovak Slovak Slovak Slovak Slovak Slovak Slovak Slovak Slovak Slovak Slovak Slovak Slovak Slovak Slovak Slovak Slovak Slovak Slovak Slovak Slovak Slovak Slovak Slovak Slovak Slovak Slovak Slovak Slovak Slovak Slovak Slovak Slovak Slovak Slovak Slovak Slovak Slovak Slovak Slovak Slovak Slovak Slovak Slovak Slovak Slovak Slovak Slovak Slovak Slovak Slovak Slovak Slovak Slovak Slovak Slovak Slovak Slovak Slovak Slovak Slovak Slovak Slovak Slovak Slovak Slovak Slovak Slovak Slovak Slovak Slovak Slovak Slovak Slovak Slovak Slovak Slovak Slovak Slovak Slovak Slovak Slovak Slovak Slovak Slovak Slovak Slovak Slovak Slovak Slovak Slovak Slovak Slovak Slovak Slovak Slovak Slovak Slovak Slovak Slovak Slovak Slovak Slovak Slovak Slovak Slovak Slovak Slovak Slovak Slovak Slovak Slovak Slovak Slovak Slovak Slovak Slovak Slovak Slovak Slovak Slovak Slovak Slovak Slovak Slovak']\n",
      "File: /Users/angwang/ChartFC/seed_datasets_150_GF/3_translated_data_150_GF/PlotQA/train/tables/plotQA_35724-train-ctt.csv: Row has 4 columns, expected 3 - row data: ['& Male', '45.5', '1997', '1994']\n",
      "File: /Users/angwang/ChartFC/seed_datasets_150_GF/3_translated_data_150_GF/PlotQA/val/tables/plotQA_3349-val-ctt.csv: Row has 4 columns, expected 3 - row data: ['High income: OECD', '4', '5', '100.40817321834261126487324']\n",
      "File: /Users/angwang/ChartFC/seed_datasets_150_GF/3_translated_data_150_GF/PlotQA/val/tables/plotQA_19926-val-ctt.csv: Row has 4 columns, expected 3 - row data: ['Honduras', '5', '5', '6 6808951361553088012188.9']\n",
      "File: /Users/angwang/ChartFC/seed_datasets_150_GF/3_translated_data_150_GF/PlotQA/val/tables/plotQA_24683-val-ctt.csv: Row has 4 columns, expected 3 - row data: ['Mozambique', '2006', '2006', '816302.0']\n",
      "File: /Users/angwang/ChartFC/seed_datasets_150_GF/3_translated_data_150_GF/PlotQA/val/tables/plotQA_17140-val-ctt.csv: Row has 4 columns, expected 3 - row data: ['Net savings(excluding particulate emission damage)', '2', '3', '7635686015104805.8454']\n",
      "File: /Users/angwang/ChartFC/seed_datasets_150_GF/3_translated_data_150_GF/PlotQA/val/tables/plotQA_17469-val-ctt.csv: Row has 4 columns, expected 3 - row data: ['International Tourists', '5', '4', '55000000']\n",
      "File: /Users/angwang/ChartFC/seed_datasets_150_GF/3_translated_data_150_GF/FigureQA/train/tables/figureQA_86124-train-ctt.csv: Row has 2 columns, expected 3 - row data: ['Medium plastic', '30.5']\n",
      "File: /Users/angwang/ChartFC/seed_datasets_150_GF/3_translated_data_150_GF/FigureQA/train/tables/figureQA_73151-train-ctt.csv: Row has 1 columns, expected 2 - row data: ['0.04']\n",
      "File: /Users/angwang/ChartFC/seed_datasets_150_GF/3_translated_data_150_GF/FigureQA/train/tables/figureQA_67334-train-ctt.csv: Row has 3 columns, expected 2 - row data: ['Sandle Brown', '90', '90']\n",
      "File: /Users/angwang/ChartFC/seed_datasets_150_GF/3_translated_data_150_GF/FigureQA/train/tables/figureQA_71753-train-ctt.csv: Row has 1 columns, expected 2 - row data: ['80.68']\n",
      "File: /Users/angwang/ChartFC/seed_datasets_150_GF/3_translated_data_150_GF/FigureQA/train/tables/figureQA_85320-train-ctt.csv: Row has 3 columns, expected 2 - row data: ['Royal Blue', '92.84', '90.96']\n",
      "File: /Users/angwang/ChartFC/seed_datasets_150_GF/3_translated_data_150_GF/FigureQA/train/tables/figureQA_56479-train-ctt.csv: Row has 1 columns, expected 2 - row data: ['None\"']\n",
      "File: /Users/angwang/ChartFC/seed_datasets_150_GF/3_translated_data_150_GF/FigureQA/train/tables/figureQA_60797-train-ctt.csv: Row has 1 columns, expected 2 - row data: ['0.0 && 0.0 && 0.0 && 0.0 && 0.0 && 0.0 && 0.0 && 0.0 && 0.0 && 0.0 && 0.0 && 0.0 && 0.0 && 0.0 && 0.0 && 0.0 && 0.0 && 0.0 && 0.0 && 0.0 && 0.0 && 0.0 && 0.0 && 0.0 && 0.0 && 0.0 && 0.0 && 0.0 && 0.0 && 0.0 && 0.0 && 0.0 && 0.0 && 0.0 && 0.0 && 0.0 && 0.0 && 0.0 && 0.0 && 0.0 && 0.0 && 0.0.0.0.0 &0.0 &0.0.0.0 &0.0 &0.0 &0.0.0 &0.0.0 &0.0 &0.0.0 &0.0 &0.0 &0.0.0 &0 &0.0.0 &0 &0.0 &0.0 &0.0 &0 &0.0 &0.0 &0.0']\n",
      "File: /Users/angwang/ChartFC/seed_datasets_150_GF/3_translated_data_150_GF/FigureQA/train/tables/figureQA_78145-train-ctt.csv: Row has 3 columns, expected 2 - row data: ['0', '60.0', '61.0']\n",
      "File: /Users/angwang/ChartFC/seed_datasets_150_GF/3_translated_data_150_GF/FigureQA/train/tables/figureQA_22928-train-ctt.csv: Row has 3 columns, expected 2 - row data: ['0', '27.3', 'Medium Turquoise']\n",
      "File: /Users/angwang/ChartFC/seed_datasets_150_GF/3_translated_data_150_GF/FigureQA/train/tables/figureQA_77373-train-ctt.csv: Row has 3 columns, expected 2 - row data: ['&& 14', '85', '85']\n",
      "File: /Users/angwang/ChartFC/seed_datasets_150_GF/3_translated_data_150_GF/FigureQA/train/tables/figureQA_59494-train-ctt.csv: Row has 0 columns, expected 2 - row data: []\n",
      "File: /Users/angwang/ChartFC/seed_datasets_150_GF/3_translated_data_150_GF/FigureQA/train/tables/figureQA_43267-train-ctt.csv: Row has 4 columns, expected 3 - row data: ['Corn10000000000001', '0', 'Sierra Leone', '8\"']\n",
      "File: /Users/angwang/ChartFC/seed_datasets_150_GF/3_translated_data_150_GF/FigureQA/train/tables/figureQA_11697-train-ctt.csv: Row has 1 columns, expected 2 - row data: ['0']\n",
      "File: /Users/angwang/ChartFC/seed_datasets_150_GF/3_translated_data_150_GF/FigureQA/train/tables/figureQA_93810-train-ctt.csv: Row has 3 columns, expected 2 - row data: ['Medium Purple', '0', '0']\n",
      "File: /Users/angwang/ChartFC/seed_datasets_150_GF/3_translated_data_150_GF/FigureQA/train/tables/figureQA_35077-train-ctt.csv: Row has 5 columns, expected 2 - row data: ['& 14', '140', '140', '140', '140']\n",
      "File: /Users/angwang/ChartFC/seed_datasets_150_GF/3_translated_data_150_GF/FigureQA/train/tables/figureQA_33692-train-ctt.csv: Row has 9 columns, expected 7 - row data: ['Steel Blue', '20.69', '13.33', '11.18', '13.0', '7.39', '7.39', '0.52', '0.65']\n"
     ]
    },
    {
     "name": "stderr",
     "output_type": "stream",
     "text": [
      "/var/folders/sx/hkqgssrx0jd_jb2_792hz_hm0000gp/T/ipykernel_46365/4250671795.py:36: FutureWarning: errors='ignore' is deprecated and will raise in a future version. Use to_numeric without passing `errors` and catch exceptions explicitly instead\n",
      "  df = pd.DataFrame(records, columns=header).apply(pd.to_numeric, errors='ignore')\n"
     ]
    },
    {
     "ename": "IndexError",
     "evalue": "list index out of range",
     "output_type": "error",
     "traceback": [
      "\u001b[0;31m---------------------------------------------------------------------------\u001b[0m",
      "\u001b[0;31mIndexError\u001b[0m                                Traceback (most recent call last)",
      "Cell \u001b[0;32mIn[5], line 7\u001b[0m\n\u001b[1;32m      4\u001b[0m     data_string \u001b[38;5;241m=\u001b[39m file\u001b[38;5;241m.\u001b[39mread()\n\u001b[1;32m      6\u001b[0m \u001b[38;5;28;01mtry\u001b[39;00m:\n\u001b[0;32m----> 7\u001b[0m     result \u001b[38;5;241m=\u001b[39m \u001b[43mstring_to_dataframe_and_title\u001b[49m\u001b[43m(\u001b[49m\u001b[43mdata_string\u001b[49m\u001b[43m,\u001b[49m\u001b[43m \u001b[49m\u001b[43mfilepath\u001b[49m\u001b[43m)\u001b[49m\n\u001b[1;32m      8\u001b[0m     \u001b[38;5;28;01mif\u001b[39;00m result \u001b[38;5;129;01mis\u001b[39;00m \u001b[38;5;28;01mNone\u001b[39;00m:\n\u001b[1;32m      9\u001b[0m         \u001b[38;5;28mprint\u001b[39m(\u001b[38;5;124mf\u001b[39m\u001b[38;5;124m\"\u001b[39m\u001b[38;5;124mSkipping conversion for \u001b[39m\u001b[38;5;132;01m{\u001b[39;00mfilepath\u001b[38;5;132;01m}\u001b[39;00m\u001b[38;5;124m because it removes data.\u001b[39m\u001b[38;5;124m\"\u001b[39m)\n",
      "Cell \u001b[0;32mIn[3], line 11\u001b[0m, in \u001b[0;36mstring_to_dataframe_and_title\u001b[0;34m(data_string, filepath)\u001b[0m\n\u001b[1;32m      9\u001b[0m \u001b[38;5;66;03m# Check if the first row is a title and extract it\u001b[39;00m\n\u001b[1;32m     10\u001b[0m \u001b[38;5;28;01mif\u001b[39;00m \u001b[38;5;124m\"\u001b[39m\u001b[38;5;124mTITLE |\u001b[39m\u001b[38;5;124m\"\u001b[39m \u001b[38;5;129;01min\u001b[39;00m rows[\u001b[38;5;241m0\u001b[39m]:\n\u001b[0;32m---> 11\u001b[0m     potential_title \u001b[38;5;241m=\u001b[39m \u001b[43mrows\u001b[49m\u001b[43m[\u001b[49m\u001b[38;5;241;43m0\u001b[39;49m\u001b[43m]\u001b[49m\u001b[38;5;241;43m.\u001b[39;49m\u001b[43msplit\u001b[49m\u001b[43m(\u001b[49m\u001b[38;5;124;43m\"\u001b[39;49m\u001b[38;5;124;43m | \u001b[39;49m\u001b[38;5;124;43m\"\u001b[39;49m\u001b[43m,\u001b[49m\u001b[43m \u001b[49m\u001b[38;5;241;43m1\u001b[39;49m\u001b[43m)\u001b[49m\u001b[43m[\u001b[49m\u001b[38;5;241;43m1\u001b[39;49m\u001b[43m]\u001b[49m  \u001b[38;5;66;03m# Split and take second part as the potential title\u001b[39;00m\n\u001b[1;32m     12\u001b[0m     \u001b[38;5;28;01mif\u001b[39;00m potential_title\u001b[38;5;241m.\u001b[39mstrip()\u001b[38;5;241m.\u001b[39mlower() \u001b[38;5;129;01mnot\u001b[39;00m \u001b[38;5;129;01min\u001b[39;00m [\u001b[38;5;124m'\u001b[39m\u001b[38;5;124m'\u001b[39m, \u001b[38;5;124m'\u001b[39m\u001b[38;5;124mtitle\u001b[39m\u001b[38;5;124m'\u001b[39m]: \u001b[38;5;66;03m# Handle cases with placeholder titles\u001b[39;00m\n\u001b[1;32m     13\u001b[0m         title \u001b[38;5;241m=\u001b[39m potential_title  \u001b[38;5;66;03m# Only set title if it's meaningful\u001b[39;00m\n",
      "\u001b[0;31mIndexError\u001b[0m: list index out of range"
     ]
    }
   ],
   "source": [
    "# Pattern for matching csvs in FigureQA and PlotQA\n",
    "for filepath in glob.glob(data_pattern, recursive=True):\n",
    "    with open(filepath, 'r') as file:\n",
    "        data_string = file.read()\n",
    "\n",
    "    try:\n",
    "        result = string_to_dataframe_and_title(data_string, filepath)\n",
    "        if result is None:\n",
    "            print(f\"Skipping conversion for {filepath} because it removes data.\")\n",
    "            continue\n",
    "\n",
    "        df, title = result\n",
    "\n",
    "        if df is not None:\n",
    "            # Save the DataFrame (overwrite original file)\n",
    "            df.to_csv(filepath, index=False)\n",
    "                \n",
    "            # Save the title to a separate file\n",
    "            save_title_to_file(title, filepath)\n",
    "    except ValueError as e:\n",
    "        print(f\"Error processing {filepath}: {e}\")"
   ]
  },
  {
   "cell_type": "code",
   "execution_count": 6,
   "id": "1c861b0b-bcec-4644-ac93-7c8caa0047bb",
   "metadata": {},
   "outputs": [
    {
     "data": {
      "text/plain": [
       "[]"
      ]
     },
     "execution_count": 6,
     "metadata": {},
     "output_type": "execute_result"
    }
   ],
   "source": [
    "''' Check if CSV has any data '''\n",
    "def test_csv_conversion(directory_pattern):\n",
    "    not_converted_properly = []\n",
    "\n",
    "    # Loop through each file in directory\n",
    "    for filepath in glob.glob(directory_pattern, recursive=True):\n",
    "        # Only check converted files\n",
    "        if filepath.endswith('-dp.csv'):\n",
    "            try:\n",
    "                df = pd.read_csv(filepath)\n",
    "                # If shape is (0, 1), add to list\n",
    "                if df.shape == (0, 1):\n",
    "                    not_converted_properly.append(filepath)\n",
    "            except Exception as e: # If error reading CSV, add to list\n",
    "                not_converted_properly.append(filepath)\n",
    "\n",
    "    return not_converted_properly\n",
    "\n",
    "# Check for files not converted properly\n",
    "csvs_not_converted_properly = test_csv_conversion(data_pattern)\n",
    "csvs_not_converted_properly"
   ]
  },
  {
   "cell_type": "code",
   "execution_count": null,
   "id": "cb487566-be60-4a36-a6f9-29d8bbc6a50d",
   "metadata": {},
   "outputs": [],
   "source": []
  }
 ],
 "metadata": {
  "kernelspec": {
   "display_name": "Python 3 (ipykernel)",
   "language": "python",
   "name": "python3"
  },
  "language_info": {
   "codemirror_mode": {
    "name": "ipython",
    "version": 3
   },
   "file_extension": ".py",
   "mimetype": "text/x-python",
   "name": "python",
   "nbconvert_exporter": "python",
   "pygments_lexer": "ipython3",
   "version": "3.12.4"
  }
 },
 "nbformat": 4,
 "nbformat_minor": 5
}
