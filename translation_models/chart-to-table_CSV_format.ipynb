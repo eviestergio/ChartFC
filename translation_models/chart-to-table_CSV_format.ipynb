{
 "cells": [
  {
   "cell_type": "code",
   "execution_count": 1,
   "id": "97bc833f-4e16-477f-8302-9db2462c1070",
   "metadata": {},
   "outputs": [],
   "source": [
    "import pandas as pd\n",
    "import glob\n",
    "import os"
   ]
  },
  {
   "cell_type": "code",
   "execution_count": 2,
   "id": "46f05444-cbef-4edb-9897-b27051ead38c",
   "metadata": {},
   "outputs": [],
   "source": [
    "# Paths to datasets with DePlot tables\n",
    "data_pattern = '../seed_datasets_100/3_translated_data_100/**/*-ctt.csv'"
   ]
  },
  {
   "cell_type": "code",
   "execution_count": 3,
   "id": "d196caf7-c800-41f2-af44-6c1ce4ca75eb",
   "metadata": {},
   "outputs": [],
   "source": [
    "''' Convert data string to a DataFrame and a title '''\n",
    "def string_to_dataframe_and_title(data_string, filepath):\n",
    "    # Split the data into rows\n",
    "    rows = data_string.strip().split(\"&&&\")\n",
    "    \n",
    "    title = None\n",
    "    header = None\n",
    "\n",
    "    # Check if the first row is a title and extract it\n",
    "    if \"TITLE |\" in rows[0]:\n",
    "        potential_title = rows[0].split(\" | \", 1)[1]  # Split and take second part as the potential title\n",
    "        if potential_title.strip().lower() not in ['', 'title']: # Handle cases with placeholder titles\n",
    "            title = potential_title  # Only set title if it's meaningful\n",
    "        rows.pop(0)  # Remove the title row from processing\n",
    "\n",
    "    # The next row should be the header\n",
    "    if rows:\n",
    "        header = [h.strip() for h in rows.pop(0).split(\"|\") if h.strip()]\n",
    "    else:\n",
    "        raise ValueError(\"No header row found after the title row.\")\n",
    "\n",
    "    # Check if there are any data rows left after removing title and header\n",
    "    if not rows:\n",
    "        raise ValueError(\"No data rows found after the header row.\")\n",
    "\n",
    "    # Split remaining rows based on number of headers\n",
    "    records = []\n",
    "    for row in rows:\n",
    "        record = [r.strip() for r in row.strip().split(\"|\") if r.strip()]\n",
    "        if len(record) != len(header):\n",
    "            print(f\"File: {filepath}: Row has {len(record)} columns, expected {len(header)} - row data: {record}\")\n",
    "            return None, title  # to keep original CSV instead\n",
    "        records.append(record)\n",
    "\n",
    "    # Create df and convert data to numeric where possible\n",
    "    df = pd.DataFrame(records, columns=header).apply(pd.to_numeric, errors='ignore')\n",
    "\n",
    "    return df, title"
   ]
  },
  {
   "cell_type": "code",
   "execution_count": 4,
   "id": "fe586c8d-d896-413d-9bfe-2b840eeee6db",
   "metadata": {},
   "outputs": [],
   "source": [
    "''' Save the title to a separate txt file '''\n",
    "def save_title_to_file(title, filepath):\n",
    "    if title:\n",
    "        title_filepath = f\"{filepath.rsplit('.', 1)[0]}-title.txt\" # Add '-title' extention\n",
    "        with open(title_filepath, 'w') as f:\n",
    "            f.write(title)"
   ]
  },
  {
   "cell_type": "code",
   "execution_count": 5,
   "id": "e904e61d-b750-45a5-ad92-a84536f5ed96",
   "metadata": {},
   "outputs": [
    {
     "name": "stdout",
     "output_type": "stream",
     "text": [
      "File: ../seed_datasets_100/3_translated_data_100/PlotQA/train/tables/plotQA_58019-train-ctt.csv: Row has 4 columns, expected 3 - row data: ['Russian Federation', '-0.7474747474747474784', '1986', '1986']\n",
      "File: ../seed_datasets_100/3_translated_data_100/PlotQA/train/tables/plotQA_126784-train-ctt.csv: Row has 2 columns, expected 3 - row data: ['Sri Lanka', '0.2']\n",
      "File: ../seed_datasets_100/3_translated_data_100/PlotQA/train/tables/plotQA_92173-train-ctt.csv: Row has 4 columns, expected 3 - row data: ['& United Kingdom', '3', '2', '23.62929292929262695269531']\n",
      "File: ../seed_datasets_100/3_translated_data_100/PlotQA/val/tables/plotQA_19779-val-ctt.csv: Row has 4 columns, expected 3 - row data: ['Self-employed', '4', '5', '51.2000007629395']\n",
      "File: ../seed_datasets_100/3_translated_data_100/FigureQA/train/tables/figureQA_63892-train-ctt.csv: Row has 9 columns, expected 7 - row data: ['Web Pry', '0.0', '0.0', '0.0', '0.0', '0.0', '0.0', '0.0', '0.0']\n",
      "File: ../seed_datasets_100/3_translated_data_100/FigureQA/train/tables/figureQA_80487-train-ctt.csv: Row has 2 columns, expected 3 - row data: ['0', '16.5']\n",
      "File: ../seed_datasets_100/3_translated_data_100/FigureQA/train/tables/figureQA_96216-train-ctt.csv: Row has 4 columns, expected 5 - row data: ['8', '5', '15.6', '17.3']\n",
      "File: ../seed_datasets_100/3_translated_data_100/FigureQA/train/tables/figureQA_82199-train-ctt.csv: Row has 4 columns, expected 3 - row data: [\"'OO\", '8', '8', '12']\n",
      "File: ../seed_datasets_100/3_translated_data_100/FigureQA/train/tables/figureQA_19952-train-ctt.csv: Row has 1 columns, expected 2 - row data: ['None\"']\n",
      "File: ../seed_datasets_100/3_translated_data_100/FigureQA/train/tables/figureQA_55737-train-ctt.csv: Row has 1 columns, expected 2 - row data: ['None']\n",
      "File: ../seed_datasets_100/3_translated_data_100/FigureQA/train/tables/figureQA_63032-train-ctt.csv: Row has 2 columns, expected 3 - row data: ['0', '88.0']\n",
      "File: ../seed_datasets_100/3_translated_data_100/FigureQA/train/tables/figureQA_43249-train-ctt.csv: Row has 1 columns, expected 2 - row data: ['None\"']\n",
      "File: ../seed_datasets_100/3_translated_data_100/FigureQA/train/tables/figureQA_34683-train-ctt.csv: Row has 1 columns, expected 2 - row data: ['None']\n",
      "File: ../seed_datasets_100/3_translated_data_100/FigureQA/train/tables/figureQA_56247-train-ctt.csv: Row has 1 columns, expected 2 - row data: ['None\"']\n",
      "File: ../seed_datasets_100/3_translated_data_100/FigureQA/train/tables/figureQA_99722-train-ctt.csv: Row has 8 columns, expected 9 - row data: ['0', '95.0', '100.0', '90.0', '99.0', '98.0', '95.0', '95.0']\n",
      "File: ../seed_datasets_100/3_translated_data_100/FigureQA/train/tables/figureQA_66119-train-ctt.csv: Row has 3 columns, expected 2 - row data: ['& Feb, 2020', '76.13 & replies, 2020', '74.13']\n",
      "File: ../seed_datasets_100/3_translated_data_100/FigureQA/train/tables/figureQA_96310-train-ctt.csv: Row has 3 columns, expected 2 - row data: ['& 800.0', '77.0', '77.5']\n",
      "Error processing ../seed_datasets_100/3_translated_data_100/FigureQA/train/tables/figureQA_51171-train-ctt.csv: No header row found after the title row.\n",
      "File: ../seed_datasets_100/3_translated_data_100/FigureQA/train/tables/figureQA_90769-train-ctt.csv: Row has 8 columns, expected 7 - row data: ['Yelp', '80.32', '84', '80.29', '80.32', '36.21', '5.2', '11.71']\n"
     ]
    }
   ],
   "source": [
    "# Pattern for matching csvs in FigureQA and PlotQA\n",
    "for filepath in glob.glob(data_pattern, recursive=True):\n",
    "    with open(filepath, 'r') as file:\n",
    "        data_string = file.read()\n",
    "\n",
    "    try:\n",
    "        result = string_to_dataframe_and_title(data_string, filepath)\n",
    "        if result is None:\n",
    "            print(f\"Skipping conversion for {filepath} because it removes data.\")\n",
    "            continue\n",
    "\n",
    "        df, title = result\n",
    "\n",
    "        if df is not None:\n",
    "            # Save the DataFrame (overwrite original file)\n",
    "            df.to_csv(filepath, index=False)\n",
    "                \n",
    "            # Save the title to a separate file\n",
    "            save_title_to_file(title, filepath)\n",
    "    except ValueError as e:\n",
    "        print(f\"Error processing {filepath}: {e}\")"
   ]
  },
  {
   "cell_type": "code",
   "execution_count": 6,
   "id": "1c861b0b-bcec-4644-ac93-7c8caa0047bb",
   "metadata": {},
   "outputs": [
    {
     "data": {
      "text/plain": [
       "[]"
      ]
     },
     "execution_count": 6,
     "metadata": {},
     "output_type": "execute_result"
    }
   ],
   "source": [
    "''' Check if CSV has any data '''\n",
    "def test_csv_conversion(directory_pattern):\n",
    "    not_converted_properly = []\n",
    "\n",
    "    # Loop through each file in directory\n",
    "    for filepath in glob.glob(directory_pattern, recursive=True):\n",
    "        # Only check converted files\n",
    "        if filepath.endswith('-dp.csv'):\n",
    "            try:\n",
    "                df = pd.read_csv(filepath)\n",
    "                # If shape is (0, 1), add to list\n",
    "                if df.shape == (0, 1):\n",
    "                    not_converted_properly.append(filepath)\n",
    "            except Exception as e: # If error reading CSV, add to list\n",
    "                not_converted_properly.append(filepath)\n",
    "\n",
    "    return not_converted_properly\n",
    "\n",
    "# Check for files not converted properly\n",
    "csvs_not_converted_properly = test_csv_conversion(data_pattern)\n",
    "csvs_not_converted_properly"
   ]
  },
  {
   "cell_type": "code",
   "execution_count": null,
   "id": "cb487566-be60-4a36-a6f9-29d8bbc6a50d",
   "metadata": {},
   "outputs": [],
   "source": []
  }
 ],
 "metadata": {
  "kernelspec": {
   "display_name": "Python 3 (ipykernel)",
   "language": "python",
   "name": "python3"
  },
  "language_info": {
   "codemirror_mode": {
    "name": "ipython",
    "version": 3
   },
   "file_extension": ".py",
   "mimetype": "text/x-python",
   "name": "python",
   "nbconvert_exporter": "python",
   "pygments_lexer": "ipython3",
   "version": "3.11.7"
  }
 },
 "nbformat": 4,
 "nbformat_minor": 5
}
