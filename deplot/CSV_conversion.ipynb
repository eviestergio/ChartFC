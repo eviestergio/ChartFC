{
 "cells": [
  {
   "cell_type": "code",
   "execution_count": 1,
   "id": "c9e1ae43",
   "metadata": {},
   "outputs": [],
   "source": [
    "import pandas as pd\n",
    "import glob\n",
    "import os"
   ]
  },
  {
   "cell_type": "code",
   "execution_count": 2,
   "id": "62011b25-f41f-4fcc-af33-b786864c6dba",
   "metadata": {},
   "outputs": [],
   "source": [
    "# Paths to FigureQA and PlotQA datasets\n",
    "figureqa_pattern = '../random_sample_100/FigureQA/**/*.csv'\n",
    "plotqa_pattern = '../random_sample_100/PlotQA/**/*.csv'\n",
    "\n",
    "# Combine the patterns to match all csv files in FigureQA and PlotQA\n",
    "patterns = [figureqa_pattern, plotqa_pattern]"
   ]
  },
  {
   "cell_type": "code",
   "execution_count": null,
   "id": "76c5ebcb",
   "metadata": {},
   "outputs": [],
   "source": [
    "''' Delete existing converted files '''\n",
    "# Recursively match files in subdirectories\n",
    "for pattern in patterns:\n",
    "    for filepath in glob.glob(pattern, recursive=True):\n",
    "        if filepath.endswith('-converted.csv') or filepath.endswith('-title.txt'):\n",
    "            os.remove(filepath)  # Delete the file\n",
    "\n",
    "# Check for remaining files\n",
    "remaining_converted_files = []\n",
    "for pattern in patterns:\n",
    "    remaining_converted_files.extend([f for f in glob.glob(pattern, recursive=True) if f.endswith('-converted.csv') or f.endswith('-title.txt')])\n",
    "remaining_converted_files"
   ]
  },
  {
   "cell_type": "code",
   "execution_count": 3,
   "id": "2f1b5847",
   "metadata": {},
   "outputs": [],
   "source": [
    "''' Convert data string to a DataFrame and a title '''\n",
    "def string_to_dataframe_and_title(data_string, filepath):\n",
    "    # Split the data into rows\n",
    "    rows = data_string.strip().split(\"<0x0A>\")\n",
    "    \n",
    "    title = None\n",
    "    header = None\n",
    "\n",
    "    # Check if the first row is a title and extract it\n",
    "    if \"TITLE |\" in rows[0]:\n",
    "        potential_title = rows[0].split(\" | \", 1)[1]  # Split and take second part as the potential title\n",
    "        if potential_title.strip().lower() not in ['', 'title']: # Handle cases with placeholder titles\n",
    "            title = potential_title  # Only set title if its meaningful\n",
    "        rows.pop(0)  # Remove the title row from processing\n",
    "\n",
    "    # The next row should be the header\n",
    "    if rows:\n",
    "        header = [h.strip() for h in rows.pop(0).split(\"|\") if h.strip()]\n",
    "        # rows.pop(0).split(\" | \")\n",
    "    else:\n",
    "        raise ValueError(\"No header row found after the title row.\")\n",
    "\n",
    "    # Check if there are any data rows left after removing title and header\n",
    "    if not rows:\n",
    "        raise ValueError(\"No data rows found after the header row.\")\n",
    "\n",
    "    # Split remaining rows based on number of headers\n",
    "    records = []\n",
    "    for row in rows:\n",
    "        record = [r.strip() for r in row.strip().split(\"|\") if r.strip()]\n",
    "        if len(record) != len(header):\n",
    "            print(f\"File: {filepath}: Row has {len(record)} columns, expected {len(header)} - row data: {record}\")\n",
    "            return None, title  # to keep original CSV instead\n",
    "        records.append(record)\n",
    "\n",
    "    # Create df and convert data to numeric where possible\n",
    "    df = pd.DataFrame(records, columns=header).apply(pd.to_numeric, errors='ignore')\n",
    "\n",
    "    return df, title"
   ]
  },
  {
   "cell_type": "code",
   "execution_count": 4,
   "id": "1cc21f65",
   "metadata": {},
   "outputs": [],
   "source": [
    "''' Save the title to a separate txt file '''\n",
    "def save_title_to_file(title, filepath):\n",
    "    if title:\n",
    "        title_filepath = f\"{filepath.rsplit('.', 1)[0]}-title.txt\" # Add '-title' extention\n",
    "        with open(title_filepath, 'w') as f:\n",
    "            f.write(title)"
   ]
  },
  {
   "cell_type": "code",
   "execution_count": 6,
   "id": "c6bc1819",
   "metadata": {},
   "outputs": [
    {
     "name": "stdout",
     "output_type": "stream",
     "text": [
      "File: ../random_sample_100/FigureQA/train/tables/figureQA_96216-train.csv: Row has 3 columns, expected 5 - row data: ['2026', '9.46', '80.50']\n",
      "File: ../random_sample_100/FigureQA/train/tables/figureQA_63032-train.csv: Row has 1 columns, expected 8 - row data: ['hot_pink']\n",
      "File: ../random_sample_100/FigureQA/train/tables/figureQA_23322-train.csv: Row has 5 columns, expected 4 - row data: ['Red', '4', '1', '3', '1']\n",
      "File: ../random_sample_100/FigureQA/train/tables/figureQA_82199-train.csv: Row has 3 columns, expected 8 - row data: ['Seafoam', '16.1', '10.3']\n",
      "File: ../random_sample_100/FigureQA/train/tables/figureQA_43461-train.csv: Row has 4 columns, expected 3 - row data: ['Medium Seafoam', '13.7', '13.1', '13.7']\n"
     ]
    }
   ],
   "source": [
    "# Pattern for matching csvs in FigureQA and PlotQA\n",
    "for pattern in patterns:\n",
    "    for filepath in glob.glob(pattern, recursive=True):\n",
    "        with open(filepath, 'r') as file:\n",
    "            data_string = file.read()\n",
    "    \n",
    "        try:\n",
    "            result = string_to_dataframe_and_title(data_string, filepath)\n",
    "            if result is None:\n",
    "                print(f\"Skipping conversion for {filepath} because it removes data.\")\n",
    "                continue\n",
    "\n",
    "            df, title = result\n",
    "\n",
    "            if df is not None:\n",
    "                # Create new file name with '-converted' extention\n",
    "                base, extension = os.path.splitext(filepath)\n",
    "                new_filepath = f\"{base}-converted{extension}\"\n",
    "                \n",
    "                # Save the DataFrame\n",
    "                df.to_csv(new_filepath, index=False)\n",
    "                    \n",
    "                # Save the title to a separate file\n",
    "            save_title_to_file(title, filepath)\n",
    "        except ValueError as e:\n",
    "            print(f\"Error processing {filepath}: {e}\")"
   ]
  },
  {
   "cell_type": "code",
   "execution_count": null,
   "id": "a0a876f1",
   "metadata": {},
   "outputs": [],
   "source": [
    "''' Check if CSV was converted properly '''\n",
    "def test_csv_conversion(directory_pattern):\n",
    "    not_converted_properly = []\n",
    "\n",
    "    # Loop through each file in directory\n",
    "    for filepath in glob.glob(directory_pattern, recursive=True):\n",
    "        # Only check converted files\n",
    "        if filepath.endswith('-converted.csv'):\n",
    "            try:\n",
    "                df = pd.read_csv(filepath)\n",
    "                # If shape is (0, 1), add to list\n",
    "                if df.shape == (0, 1):\n",
    "                    not_converted_properly.append(filepath)\n",
    "            except Exception as e: # If error reading CSV, add to list\n",
    "                not_converted_properly.append(filepath)\n",
    "\n",
    "    return not_converted_properly\n",
    "\n",
    "# Check for files not converted propely\n",
    "csvs_not_converted_properly = []\n",
    "for pattern in patterns:\n",
    "    csvs_not_converted_properly.extend(test_csv_conversion(pattern))\n",
    "\n",
    "csvs_not_converted_properly"
   ]
  }
 ],
 "metadata": {
  "kernelspec": {
   "display_name": "Python 3 (ipykernel)",
   "language": "python",
   "name": "python3"
  },
  "language_info": {
   "codemirror_mode": {
    "name": "ipython",
    "version": 3
   },
   "file_extension": ".py",
   "mimetype": "text/x-python",
   "name": "python",
   "nbconvert_exporter": "python",
   "pygments_lexer": "ipython3",
   "version": "3.11.7"
  }
 },
 "nbformat": 4,
 "nbformat_minor": 5
}
