{
 "cells": [
  {
   "cell_type": "code",
   "execution_count": 1,
   "id": "c9e1ae43",
   "metadata": {},
   "outputs": [],
   "source": [
    "import pandas as pd\n",
    "import glob\n",
    "import os"
   ]
  },
  {
   "cell_type": "code",
   "execution_count": 2,
   "id": "76c5ebcb",
   "metadata": {},
   "outputs": [
    {
     "data": {
      "text/plain": [
       "[]"
      ]
     },
     "execution_count": 2,
     "metadata": {},
     "output_type": "execute_result"
    }
   ],
   "source": [
    "''' Delete existing converted files '''\n",
    "\n",
    "pattern = '../seed_datasets/**/*.csv' # Pattern to match all csv files\n",
    "\n",
    "# Recursively match files in subdirectories\n",
    "for filepath in glob.glob(pattern, recursive=True):\n",
    "    if filepath.endswith('-converted.csv') or filepath.endswith('-title.txt'):\n",
    "        os.remove(filepath)  # Delete the file\n",
    "\n",
    "# Check for remaining files\n",
    "remaining_converted_files = [f for f in glob.glob(pattern, recursive=True) if f.endswith('-converted.csv') or f.endswith('-title.txt')]\n",
    "remaining_converted_files"
   ]
  },
  {
   "cell_type": "code",
   "execution_count": 3,
   "id": "2f1b5847",
   "metadata": {},
   "outputs": [],
   "source": [
    "''' Convert data string to a DataFrame and a title '''\n",
    "def string_to_dataframe_and_title(data_string):\n",
    "    # Split the data into rows\n",
    "    rows = data_string.strip().split(\"<0x0A>\")\n",
    "    \n",
    "    title = None\n",
    "    header = None\n",
    "\n",
    "    # Check if the first row is a title and extract it\n",
    "    if \"TITLE |\" in rows[0]:\n",
    "        potential_title = rows[0].split(\" | \", 1)[1]  # Split and take second part as the potential title\n",
    "        if potential_title.strip().lower() not in ['', 'title']: # Handle cases with placeholder titles\n",
    "            title = potential_title  # Only set title if its meaningful\n",
    "        rows.pop(0)  # Remove the title row from processing\n",
    "\n",
    "    # The next row should be the header\n",
    "    if rows:\n",
    "        header = rows.pop(0).split(\" | \")\n",
    "    else:\n",
    "        raise ValueError(\"No header row found after the title row.\")\n",
    "\n",
    "    # Check if there are any data rows left after removing title and header\n",
    "    if not rows:\n",
    "        raise ValueError(\"No data rows found after the header row.\")\n",
    "\n",
    "    # Split remaining rows based on number of headers\n",
    "    records = [row.strip().split(\" | \") for row in rows]\n",
    "    \n",
    "    # Create df and convert data to numeric where possible\n",
    "    df = pd.DataFrame(records, columns=header).apply(pd.to_numeric, errors='ignore')\n",
    "\n",
    "    return df, title"
   ]
  },
  {
   "cell_type": "code",
   "execution_count": 4,
   "id": "1cc21f65",
   "metadata": {},
   "outputs": [],
   "source": [
    "''' Save the title to a separate txt file '''\n",
    "def save_title_to_file(title, filepath):\n",
    "    if title:\n",
    "        title_filepath = f\"{filepath.rsplit('.', 1)[0]}-title.txt\" # Add '-title' extention\n",
    "        with open(title_filepath, 'w') as f:\n",
    "            f.write(title)"
   ]
  },
  {
   "cell_type": "code",
   "execution_count": 5,
   "id": "c6bc1819",
   "metadata": {},
   "outputs": [],
   "source": [
    "# Pattern for matching csvs in directory and its subdirectories\n",
    "pattern = '../seed_datasets/**/*.csv'  \n",
    "\n",
    "for filepath in glob.glob(pattern, recursive=True):\n",
    "    with open(filepath, 'r') as file:\n",
    "        data_string = file.read()\n",
    "\n",
    "    try:\n",
    "        df, title = string_to_dataframe_and_title(data_string)\n",
    "        \n",
    "        # Create new file name with '-converted' extention\n",
    "        base, extension = os.path.splitext(filepath)\n",
    "        new_filepath = f\"{base}-converted{extension}\"\n",
    "        \n",
    "        # Save the DataFrame\n",
    "        df.to_csv(new_filepath, index=False)\n",
    "            \n",
    "        # Save the title to a separate file\n",
    "        save_title_to_file(title, filepath)\n",
    "    except ValueError as e:\n",
    "        print(f\"Error processing {filepath}: {e}\")"
   ]
  },
  {
   "cell_type": "code",
   "execution_count": 6,
   "id": "a0a876f1",
   "metadata": {},
   "outputs": [
    {
     "data": {
      "text/plain": [
       "[]"
      ]
     },
     "execution_count": 6,
     "metadata": {},
     "output_type": "execute_result"
    }
   ],
   "source": [
    "''' Check if CSV was converted properly '''\n",
    "def test_csv_conversion(directory_pattern):\n",
    "    not_converted_properly = []\n",
    "\n",
    "    # Loop through each file in directory\n",
    "    for filepath in glob.glob(directory_pattern, recursive=True):\n",
    "        # Only check converted files\n",
    "        if filepath.endswith('-converted.csv'):\n",
    "            try:\n",
    "                df = pd.read_csv(filepath)\n",
    "                # If shape is (0, 1), add to list\n",
    "                if df.shape == (0, 1):\n",
    "                    not_converted_properly.append(filepath)\n",
    "            except Exception as e: # If error reading CSV, add to list\n",
    "                not_converted_properly.append(filepath)\n",
    "\n",
    "    return not_converted_properly\n",
    "\n",
    "csvs_not_converted_properly = test_csv_conversion('../seed_datasets/**/*.csv')\n",
    "csvs_not_converted_properly"
   ]
  }
 ],
 "metadata": {
  "kernelspec": {
   "display_name": "Python 3 (ipykernel)",
   "language": "python",
   "name": "python3"
  },
  "language_info": {
   "codemirror_mode": {
    "name": "ipython",
    "version": 3
   },
   "file_extension": ".py",
   "mimetype": "text/x-python",
   "name": "python",
   "nbconvert_exporter": "python",
   "pygments_lexer": "ipython3",
   "version": "3.9.6"
  }
 },
 "nbformat": 4,
 "nbformat_minor": 5
}
