{
 "cells": [
  {
   "cell_type": "code",
   "execution_count": 1,
   "id": "c9e1ae43",
   "metadata": {},
   "outputs": [],
   "source": [
    "import pandas as pd\n",
    "import glob\n",
    "import os"
   ]
  },
  {
   "cell_type": "code",
   "execution_count": 2,
   "id": "6356893b",
   "metadata": {},
   "outputs": [],
   "source": [
    "def string_to_dataframe(data_string):\n",
    "    # Split data into rows\n",
    "    rows = data_string.strip().split(\" <0x0A> \")\n",
    "    \n",
    "    # Split first row to get headers\n",
    "    header = rows[0].split(\" | \")\n",
    "    \n",
    "    # Split remaining rows based on number of headers\n",
    "    records = [row.split(\" | \", maxsplit=len(header)-1) for row in rows[1:]]\n",
    "    \n",
    "    # Create df and convert data to numeric where possible\n",
    "    df = pd.DataFrame(records, columns=header).apply(pd.to_numeric, errors='ignore')\n",
    "    \n",
    "    return df"
   ]
  },
  {
   "cell_type": "code",
   "execution_count": 3,
   "id": "5a7fe24b",
   "metadata": {},
   "outputs": [],
   "source": [
    "# Pattern for matching csvs in directory and its subdirectories\n",
    "pattern = '../seed_datasets/**/*.csv'\n",
    "\n",
    "# Use recursive glob to match files in subdirectories\n",
    "for filepath in glob.glob(pattern, recursive=True):\n",
    "    with open(filepath, 'r') as file:\n",
    "        data_string = file.read()\n",
    "        df = string_to_dataframe(data_string)\n",
    "        \n",
    "    # Create new file name with '-converted' extention\n",
    "    base, extension = os.path.splitext(filepath)\n",
    "    new_name = f\"{base}-converted{extension}\"\n",
    "    \n",
    "    # Save df with new file name\n",
    "    df.to_csv(new_name, index=False, sep=',')"
   ]
  }
 ],
 "metadata": {
  "kernelspec": {
   "display_name": "Python 3 (ipykernel)",
   "language": "python",
   "name": "python3"
  },
  "language_info": {
   "codemirror_mode": {
    "name": "ipython",
    "version": 3
   },
   "file_extension": ".py",
   "mimetype": "text/x-python",
   "name": "python",
   "nbconvert_exporter": "python",
   "pygments_lexer": "ipython3",
   "version": "3.9.6"
  }
 },
 "nbformat": 4,
 "nbformat_minor": 5
}
