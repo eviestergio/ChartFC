{
 "cells": [
  {
   "cell_type": "code",
   "execution_count": 8,
   "id": "c9e1ae43",
   "metadata": {},
   "outputs": [],
   "source": [
    "import pandas as pd"
   ]
  },
  {
   "cell_type": "code",
   "execution_count": 9,
   "id": "6356893b",
   "metadata": {},
   "outputs": [],
   "source": [
    "def string_to_dataframe(data_string):\n",
    "    # Split data into rows and columns based on delimiters\n",
    "    rows = data_string.split(\" <0x0A> \")\n",
    "    data = [row.split(\" | \") for row in rows]\n",
    "    \n",
    "    header = data[0] # First entry is the header\n",
    "    records = data[1:] # Remaining entries are the data\n",
    "    \n",
    "    # Create DataFrame\n",
    "    df = pd.DataFrame(records, columns=header).apply(pd.to_numeric, errors='ignore') #if data can be converted to numbers, its converted\n",
    "    \n",
    "    return df"
   ]
  },
  {
   "cell_type": "code",
   "execution_count": 11,
   "id": "f3c10ec0",
   "metadata": {},
   "outputs": [
    {
     "data": {
      "text/html": [
       "<div>\n",
       "<style scoped>\n",
       "    .dataframe tbody tr th:only-of-type {\n",
       "        vertical-align: middle;\n",
       "    }\n",
       "\n",
       "    .dataframe tbody tr th {\n",
       "        vertical-align: top;\n",
       "    }\n",
       "\n",
       "    .dataframe thead th {\n",
       "        text-align: right;\n",
       "    }\n",
       "</style>\n",
       "<table border=\"1\" class=\"dataframe\">\n",
       "  <thead>\n",
       "    <tr style=\"text-align: right;\">\n",
       "      <th></th>\n",
       "      <th>Entity</th>\n",
       "      <th>Tend to favor side one</th>\n",
       "      <th>fairly Deal with all sides</th>\n",
       "    </tr>\n",
       "  </thead>\n",
       "  <tbody>\n",
       "    <tr>\n",
       "      <th>0</th>\n",
       "      <td>Dem/Lean Dem</td>\n",
       "      <td>69</td>\n",
       "      <td>29</td>\n",
       "    </tr>\n",
       "    <tr>\n",
       "      <th>1</th>\n",
       "      <td>Rep/Lean Rep</td>\n",
       "      <td>91</td>\n",
       "      <td>8</td>\n",
       "    </tr>\n",
       "    <tr>\n",
       "      <th>2</th>\n",
       "      <td>U.S adults</td>\n",
       "      <td>79</td>\n",
       "      <td>20</td>\n",
       "    </tr>\n",
       "  </tbody>\n",
       "</table>\n",
       "</div>"
      ],
      "text/plain": [
       "         Entity  Tend to favor side one  fairly Deal with all sides\n",
       "0  Dem/Lean Dem                      69                          29\n",
       "1  Rep/Lean Rep                      91                           8\n",
       "2    U.S adults                      79                          20"
      ]
     },
     "metadata": {},
     "output_type": "display_data"
    }
   ],
   "source": [
    "#change to load in current csvs\n",
    "data_string = \"Entity | Tend to favor side one | fairly Deal with all sides <0x0A> Dem/Lean Dem | 69 | 29 <0x0A> Rep/Lean Rep | 91 | 8 <0x0A> U.S adults | 79 | 20\"\n",
    "df = string_to_dataframe(data_string)\n",
    "display(df) #change to overwrite csvs"
   ]
  }
 ],
 "metadata": {
  "kernelspec": {
   "display_name": "Python 3 (ipykernel)",
   "language": "python",
   "name": "python3"
  },
  "language_info": {
   "codemirror_mode": {
    "name": "ipython",
    "version": 3
   },
   "file_extension": ".py",
   "mimetype": "text/x-python",
   "name": "python",
   "nbconvert_exporter": "python",
   "pygments_lexer": "ipython3",
   "version": "3.9.6"
  }
 },
 "nbformat": 4,
 "nbformat_minor": 5
}
